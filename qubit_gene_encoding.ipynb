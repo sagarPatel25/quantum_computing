{
 "cells": [
  {
   "cell_type": "code",
   "execution_count": 1,
   "id": "af6c0b0b-9ff0-4cf9-9858-cbf207e29c17",
   "metadata": {},
   "outputs": [],
   "source": [
    "# Qubit to Gene Encoding Simulation\n",
    "\n",
    "# This simulates classical quantum mappings of DNA base pairs using Quiskit"
   ]
  },
  {
   "cell_type": "code",
   "execution_count": 2,
   "id": "6e1152e5-126d-48d8-ba42-7008891e6e93",
   "metadata": {},
   "outputs": [],
   "source": [
    "from qiskit import QuantumCircuit, transpile\n",
    "from qiskit_aer import AerSimulator\n",
    "from qiskit.quantum_info import Statevector\n",
    "from qiskit.visualization import plot_bloch_vector\n",
    "import matplotlib.pyplot as plt\n",
    "import numpy as np\n",
    "\n",
    "def normalize(vec):\n",
    "    norm = np.sqrt(sum(np.abs(x)**2 for x in vec))\n",
    "    return [x / norm for x in vec]\n",
    "\n",
    "encoding = {\n",
    "    'A': [1, 0],                       \n",
    "    'T': [0, 1],                     \n",
    "    'C': normalize([1, 1]),\n",
    "    'G': normalize([0.834, 0.556])       \n",
    "}\n",
    "\n",
    "def encode_dna(dna_str):\n",
    "    n = len(dna_str)\n",
    "    qc = QuantumCircuit(n)\n",
    "\n",
    "    for i, base in enumerate(dna_str):\n",
    "        if base not in encoding:\n",
    "            raise ValueError(f\"Invalid base: {base}\")\n",
    "        qc.initialize(encoding[base], i)\n",
    "\n",
    "    return qc\n"
   ]
  }
 ],
 "metadata": {
  "kernelspec": {
   "display_name": "Python 3 (ipykernel)",
   "language": "python",
   "name": "python3"
  },
  "language_info": {
   "codemirror_mode": {
    "name": "ipython",
    "version": 3
   },
   "file_extension": ".py",
   "mimetype": "text/x-python",
   "name": "python",
   "nbconvert_exporter": "python",
   "pygments_lexer": "ipython3",
   "version": "3.13.5"
  }
 },
 "nbformat": 4,
 "nbformat_minor": 5
}
